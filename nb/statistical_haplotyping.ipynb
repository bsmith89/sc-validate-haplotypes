{
 "cells": [
  {
   "cell_type": "markdown",
   "metadata": {},
   "source": [
    "# Preamble"
   ]
  },
  {
   "cell_type": "code",
   "execution_count": null,
   "metadata": {},
   "outputs": [],
   "source": [
    "%load_ext autoreload\n",
    "%autoreload 0"
   ]
  },
  {
   "cell_type": "code",
   "execution_count": null,
   "metadata": {},
   "outputs": [],
   "source": [
    "%autoreload"
   ]
  },
  {
   "cell_type": "markdown",
   "metadata": {},
   "source": [
    "## Imports"
   ]
  },
  {
   "cell_type": "code",
   "execution_count": null,
   "metadata": {},
   "outputs": [],
   "source": [
    "idxwhere??"
   ]
  },
  {
   "cell_type": "code",
   "execution_count": null,
   "metadata": {},
   "outputs": [],
   "source": [
    "import xarray as xr\n",
    "import sqlite3\n",
    "import pandas as pd\n",
    "import matplotlib as mpl\n",
    "import matplotlib.pyplot as plt\n",
    "import seaborn as sns\n",
    "import numpy as np\n",
    "from lib.pandas_util import idxwhere\n",
    "import warnings\n",
    "import torch\n",
    "import pyro\n",
    "\n",
    "import sfacts as sf\n",
    "from sfacts.model_zoo import (\n",
    "    full_metagenotype,\n",
    "    full_metagenotype_no_missing,\n",
    "    full_metagenotype_pp_pi,\n",
    "    full_metagenotype_dirichlet_rho,\n",
    "    full_metagenotype_dirichlet_rho_no_missing,\n",
    "    full_metagenotype_pp_pi_no_missing,\n",
    "#     full_metagenotype_special_meta,\n",
    "#     full_metagenotype_no_missing_special_meta,\n",
    ")\n",
    "\n",
    "\n",
    "from lib.project_style import color_palette, major_allele_frequency_bins\n",
    "from lib.project_data import metagenotype_db_to_xarray"
   ]
  },
  {
   "cell_type": "code",
   "execution_count": null,
   "metadata": {},
   "outputs": [],
   "source": [
    "warnings.filterwarnings(\n",
    "    \"ignore\",\n",
    "    message=\"torch.tensor results are registered as constants in the trace. You can safely ignore this warning if you use this function to create tensors out of constant variables that would be the same every time you call this function. In any other case, this might cause the trace to be incorrect.\",\n",
    "    category=torch.jit.TracerWarning,\n",
    "#     module=\"trace_elbo\",  # FIXME: What is the correct regex for module?\n",
    "#     lineno=5,\n",
    ")"
   ]
  },
  {
   "cell_type": "markdown",
   "metadata": {},
   "source": [
    "## Style"
   ]
  },
  {
   "cell_type": "markdown",
   "metadata": {},
   "source": [
    "## Load Data"
   ]
  },
  {
   "cell_type": "code",
   "execution_count": null,
   "metadata": {},
   "outputs": [],
   "source": [
    "con = sqlite3.connect('data/core.a.proc.gtpro.2.denorm.db')"
   ]
  },
  {
   "cell_type": "code",
   "execution_count": null,
   "metadata": {},
   "outputs": [],
   "source": [
    "species_of_interest = '104345'"
   ]
  },
  {
   "cell_type": "code",
   "execution_count": null,
   "metadata": {},
   "outputs": [],
   "source": [
    "_mgen_all = pd.read_sql(f\"\"\"\n",
    "SELECT\n",
    "  lib_id\n",
    ", species_position\n",
    ", reference_tally\n",
    ", alternative_tally\n",
    "FROM snp_x_lib\n",
    "JOIN lib USING (lib_id)\n",
    "WHERE species_id = '{species_of_interest}'\n",
    "  AND lib_type = 'metagenome'\n",
    "\"\"\", con=con, index_col=['lib_id', 'species_position'])\n",
    "\n",
    "mgen_all = sf.data.Metagenotypes(metagenotype_db_to_xarray(_mgen_all))"
   ]
  },
  {
   "cell_type": "code",
   "execution_count": null,
   "metadata": {},
   "outputs": [],
   "source": [
    "mgen_filt = (\n",
    "    mgen_all\n",
    "    .select_variable_positions(thresh=0.05)\n",
    "    .select_samples_with_coverage(0.05)\n",
    ")\n",
    "mgen_ss = mgen_filt.random_sample(position=1000)"
   ]
  },
  {
   "cell_type": "code",
   "execution_count": null,
   "metadata": {},
   "outputs": [],
   "source": [
    "mgen_filt.data"
   ]
  },
  {
   "cell_type": "code",
   "execution_count": null,
   "metadata": {},
   "outputs": [],
   "source": [
    "sf.plot.plot_depth(mgen_ss.to_world())"
   ]
  },
  {
   "cell_type": "code",
   "execution_count": null,
   "metadata": {},
   "outputs": [],
   "source": [
    "sf.plot.plot_metagenotype(\n",
    "    mgen_ss.to_world(),\n",
    ")"
   ]
  },
  {
   "cell_type": "code",
   "execution_count": null,
   "metadata": {},
   "outputs": [],
   "source": [
    "nstrain = 100\n",
    "nposition = min(int(5e3), mgen_filt.sizes['position'])\n",
    "\n",
    "est, (genotypes, missingness) = (\n",
    "# est, _ = (\n",
    "    sf.workflow.fit_subsampled_metagenotype_collapse_strains_then_iteratively_refit_full_genotypes(\n",
    "        full_metagenotype_no_missing.model_structure,\n",
    "#         mgen_ss,\n",
    "        mgen_filt,  # .random_sample(position=nposition),\n",
    "        nstrain=nstrain,\n",
    "        hyperparameters=dict(\n",
    "            gamma_hyper=0.2,\n",
    "#             delta_hyper_r=0.8,\n",
    "#             delta_hyper_temp=0.01,\n",
    "            rho_hyper=0.5,\n",
    "            pi_hyper=0.5,\n",
    "            epsilon_hyper_mode=0.01,\n",
    "            epsilon_hyper_spread=1.5,\n",
    "            alpha_hyper_hyper_mean=1000.0,\n",
    "            alpha_hyper_hyper_scale=0.5,\n",
    "            alpha_hyper_scale=2.0,\n",
    "#             m_hyper_hyper_r_mean=10.,\n",
    "#             m_hyper_hyper_r_scale=1.,\n",
    "#             m_hyper_r_scale=1.,\n",
    "        ),\n",
    "        nposition=nposition,\n",
    "        diss_thresh=0.02,\n",
    "        frac_thresh=1e-3,\n",
    "        stage2_hyperparameters=dict(gamma_hyper=1.0),\n",
    "        device='cpu',\n",
    "        dtype=torch.float64,\n",
    "        quiet=False,\n",
    "        estimation_kwargs=dict(\n",
    "            lagA=10,\n",
    "            lagB=100,\n",
    "            opt=pyro.optim.Adamax({\"lr\": 1.0}, {\"clip_norm\": 100}),\n",
    "            seed=2,\n",
    "            jit=True,\n",
    "        )\n",
    "    )\n",
    ")"
   ]
  },
  {
   "cell_type": "code",
   "execution_count": null,
   "metadata": {},
   "outputs": [],
   "source": [
    "sf.plot.plot_metagenotype(\n",
    "    est,\n",
    "    col_linkage_func=lambda w: w.communities.linkage(dim=\"sample\"),\n",
    "    col_colors_func=lambda w: xr.Dataset(dict(\n",
    "        focal=w.sample.isin(['SS01009.m', 'SS01057.m']),\n",
    "        depth=w.metagenotypes.mean_depth().pipe(np.log),\n",
    "        mgen_entropy=w.metagenotypes.entropy('sample'),\n",
    "        comm_entropy=w.communities.entropy('sample'),\n",
    "    )),\n",
    ")"
   ]
  },
  {
   "cell_type": "code",
   "execution_count": null,
   "metadata": {},
   "outputs": [],
   "source": [
    "sf.plot.plot_genotype(\n",
    "    est,\n",
    "    col_linkage_func=lambda w: w.metagenotypes.linkage(dim=\"position\"),\n",
    "    row_linkage_func=lambda w: w.genotypes.linkage(dim=\"strain\"),\n",
    "    row_colors_func=lambda w: xr.Dataset(dict(\n",
    "        depth=(w.communities.data * w.metagenotypes.mean_depth()).mean(\"sample\").pipe(np.log),\n",
    "        entropy=w.genotypes.entropy(),\n",
    "    )),\n",
    ")"
   ]
  },
  {
   "cell_type": "code",
   "execution_count": null,
   "metadata": {},
   "outputs": [],
   "source": [
    "sf.plot.plot_community(\n",
    "    est,\n",
    "#     col_linkage_func=lambda w: w.metagenotypes.linkage(dim=\"sample\"),\n",
    "    row_linkage_func=lambda w: w.genotypes.linkage(dim=\"strain\"),\n",
    "#     norm=None,\n",
    "    col_colors_func=lambda w: xr.Dataset(dict(\n",
    "        focal=w.sample.isin(['SS01009.m', 'SS01057.m']),\n",
    "        depth=w.metagenotypes.mean_depth().pipe(np.log),\n",
    "        mgen_entropy=w.metagenotypes.entropy('sample'),\n",
    "        comm_entropy=w.communities.entropy('sample'),\n",
    "    )),\n",
    "    norm=mpl.colors.PowerNorm(1/5),\n",
    ")"
   ]
  },
  {
   "cell_type": "code",
   "execution_count": null,
   "metadata": {},
   "outputs": [],
   "source": [
    "sf.plot.plot_missing(est)"
   ]
  },
  {
   "cell_type": "code",
   "execution_count": null,
   "metadata": {},
   "outputs": [],
   "source": [
    "est.communities.sel(sample=['SS01009.m', 'SS01057.m']).to_series().sort_values(ascending=False).head(5)"
   ]
  },
  {
   "cell_type": "code",
   "execution_count": null,
   "metadata": {},
   "outputs": [],
   "source": [
    "sf.plot.plot_genotype(\n",
    "    est.genotypes.mlift('sel', strain=[22, 24, 35]).to_world()\n",
    ")"
   ]
  },
  {
   "cell_type": "code",
   "execution_count": null,
   "metadata": {},
   "outputs": [],
   "source": [
    "_drplt_all = pd.read_sql(f\"\"\"\n",
    "SELECT\n",
    "  lib_id\n",
    ", species_position\n",
    ", reference_tally\n",
    ", alternative_tally\n",
    "FROM snp_x_lib\n",
    "JOIN lib USING (lib_id)\n",
    "WHERE species_id = '{species_of_interest}'\n",
    "  AND lib_type = 'droplet'\n",
    "\"\"\", con=con, index_col=['lib_id', 'species_position'])\n",
    "\n",
    "drplt_all = sf.data.Metagenotypes(metagenotype_db_to_xarray(_drplt_all))"
   ]
  },
  {
   "cell_type": "code",
   "execution_count": null,
   "metadata": {},
   "outputs": [],
   "source": [
    "drplt_filt = drplt_all.mlift('reindex', position=mgen_filt.position, fill_value=0).select_samples_with_coverage(0.05)"
   ]
  },
  {
   "cell_type": "code",
   "execution_count": null,
   "metadata": {},
   "outputs": [],
   "source": [
    "d = sf.data.Genotypes.concat(dict(\n",
    "    est=est.genotypes.mlift('sel', strain=[22, 24, 35]),\n",
    "    other=est.genotypes,\n",
    "    drplt=drplt_filt.to_estimated_genotypes(),\n",
    "    mgen=mgen_filt.mlift('sel', sample=['SS01009.m', 'SS01057.m']).to_estimated_genotypes(),\n",
    "), dim='strain')\n",
    "\n",
    "sf.plot.plot_genotype(\n",
    "    d.to_world(),\n",
    "    row_colors_func=None,\n",
    "    col_colors_func=None,\n",
    ")"
   ]
  },
  {
   "cell_type": "code",
   "execution_count": null,
   "metadata": {},
   "outputs": [],
   "source": [
    "nstrain = 100\n",
    "nposition = min(int(5e3), mgen_filt.sizes['position'])\n",
    "\n",
    "est2 = (\n",
    "    sf.workflow.fit_subsampled_metagenotype_collapse_strains_then_iteratively_refit_full_genotypes(\n",
    "        full_metagenotype_no_missing.model_structure,\n",
    "#         mgen_ss,\n",
    "        mgen_filt.random_sample(position=nposition),\n",
    "        nstrain=nstrain,\n",
    "        hyperparameters=dict(\n",
    "            gamma_hyper=0.2,\n",
    "#             delta_hyper_r=0.8,\n",
    "#             delta_hyper_temp=0.01,\n",
    "            rho_hyper=0.5,\n",
    "            pi_hyper=1.0,\n",
    "            epsilon_hyper_mode=0.01,\n",
    "            epsilon_hyper_spread=1.5,\n",
    "            alpha_hyper_hyper_mean=1000.0,\n",
    "            alpha_hyper_hyper_scale=0.5,\n",
    "            alpha_hyper_scale=2.0,\n",
    "#             m_hyper_hyper_r_mean=10.,\n",
    "#             m_hyper_hyper_r_scale=1.,\n",
    "#             m_hyper_r_scale=1.,\n",
    "        ),\n",
    "        nposition=nposition,\n",
    "        diss_thresh=0.02,\n",
    "        frac_thresh=1e-3,\n",
    "        stage2_hyperparameters=dict(gamma_hyper=1.0),\n",
    "        device='cpu',\n",
    "        dtype=torch.float64,\n",
    "        quiet=False,\n",
    "        estimation_kwargs=dict(\n",
    "            lagA=10,\n",
    "            lagB=100,\n",
    "            opt=pyro.optim.Adamax({\"lr\": 1.0}, {\"clip_norm\": 100}),\n",
    "            seed=2,\n",
    "            jit=True,\n",
    "        )\n",
    "    )\n",
    ")"
   ]
  },
  {
   "cell_type": "code",
   "execution_count": null,
   "metadata": {},
   "outputs": [],
   "source": [
    "sf.plot.plot_community(\n",
    "    est2,\n",
    "#     col_linkage_func=lambda w: w.metagenotypes.linkage(dim=\"sample\"),\n",
    "    row_linkage_func=lambda w: w.genotypes.linkage(dim=\"strain\"),\n",
    "#     norm=None,\n",
    "    col_colors_func=lambda w: xr.Dataset(dict(\n",
    "        focal=w.sample.isin(['SS01009.m', 'SS01057.m']),\n",
    "        depth=w.metagenotypes.mean_depth().pipe(np.log),\n",
    "        mgen_entropy=w.metagenotypes.entropy('sample'),\n",
    "        comm_entropy=w.communities.entropy('sample'),\n",
    "    )),\n",
    "    norm=mpl.colors.PowerNorm(1/2),\n",
    ")"
   ]
  },
  {
   "cell_type": "code",
   "execution_count": null,
   "metadata": {},
   "outputs": [],
   "source": [
    "e = est2\n",
    "\n",
    "d = e.communities.sel(sample=['SS01009.m', 'SS01057.m']).to_series()\n",
    "strain_list = d[d > 0.01].reset_index().strain.unique()\n",
    "print(strain_list)\n",
    "d.sort_values(ascending=False).head(10)"
   ]
  },
  {
   "cell_type": "code",
   "execution_count": null,
   "metadata": {},
   "outputs": [],
   "source": [
    "e = est2\n",
    "\n",
    "sf.plot.plot_genotype(\n",
    "    e.genotypes.mlift('sel', strain=strain_list).to_world()\n",
    ")"
   ]
  },
  {
   "cell_type": "code",
   "execution_count": null,
   "metadata": {},
   "outputs": [],
   "source": [
    "e = est2\n",
    "\n",
    "d = sf.data.Genotypes.concat(dict(\n",
    "    est=e.genotypes.mlift('sel', strain=strain_list),\n",
    "    other=e.genotypes,\n",
    "    mgen=mgen_filt.metagenotypes.mlift('sel', sample=['SS01009.m', 'SS01057.m']).mlift('sel', position=e.position).to_estimated_genotypes(),\n",
    "    drplt=drplt_filt.mlift('sel', position=e.position).to_estimated_genotypes(),\n",
    "), dim='strain')\n",
    "\n",
    "sf.plot.plot_genotype(\n",
    "    d.to_world(),\n",
    "    row_colors_func=None,\n",
    "    col_colors_func=None,\n",
    "#     row_linkage_func=None,\n",
    "#     col_linkage_func=None,\n",
    "#     col_cluster=False,\n",
    "#     row_cluster=False,\n",
    ")"
   ]
  }
 ],
 "metadata": {
  "kernelspec": {
   "display_name": "Python 3 (ipykernel)",
   "language": "python",
   "name": "python3"
  },
  "language_info": {
   "codemirror_mode": {
    "name": "ipython",
    "version": 3
   },
   "file_extension": ".py",
   "mimetype": "text/x-python",
   "name": "python",
   "nbconvert_exporter": "python",
   "pygments_lexer": "ipython3",
   "version": "3.9.7"
  }
 },
 "nbformat": 4,
 "nbformat_minor": 5
}